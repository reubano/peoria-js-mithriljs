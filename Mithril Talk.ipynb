{
 "cells": [
  {
   "cell_type": "markdown",
   "metadata": {
    "slideshow": {
     "slide_type": "slide"
    }
   },
   "source": [
    "# Component based development using Mithriljs\n",
    "\n",
    "## by Reuben Cummings\n",
    "## Peoria JavaScript Meetup\n",
    "## Monday, October 8, 2018"
   ]
  },
  {
   "cell_type": "markdown",
   "metadata": {
    "cell_style": "split",
    "slideshow": {
     "slide_type": "slide"
    }
   },
   "source": [
    "## Agenda\n",
    "\n",
    "### Why Mithril\n",
    "### Why *not* Mithril\n",
    "### Todo MVC \n",
    "### Sample Apps"
   ]
  },
  {
   "cell_type": "markdown",
   "metadata": {
    "cell_style": "split",
    "slideshow": {
     "slide_type": "fragment"
    }
   },
   "source": [
    "### Sample Apps  \n",
    "\n",
    "#### React Todo (review)\n",
    "#### Mithril Todo\n",
    "#### Iran Prison Atlas"
   ]
  },
  {
   "cell_type": "markdown",
   "metadata": {
    "slideshow": {
     "slide_type": "slide"
    }
   },
   "source": [
    "## Why Mithril"
   ]
  },
  {
   "cell_type": "markdown",
   "metadata": {
    "cell_style": "split",
    "slideshow": {
     "slide_type": "-"
    }
   },
   "source": [
    "![](images/size.png)"
   ]
  },
  {
   "cell_type": "markdown",
   "metadata": {
    "cell_style": "split",
    "slideshow": {
     "slide_type": "-"
    }
   },
   "source": [
    "![](images/performance.png)"
   ]
  },
  {
   "cell_type": "markdown",
   "metadata": {
    "cell_style": "center",
    "slideshow": {
     "slide_type": "slide"
    }
   },
   "source": [
    "## Why *not* Mithril\n",
    "\n",
    "![](images/queries.png)\n",
    "\n",
    "source: https://trends.google.com/trends/explore?date=2016-09-02%202018-09-02&q=AngularJS,Reactjs,mithriljs,vuejs"
   ]
  },
  {
   "cell_type": "markdown",
   "metadata": {
    "cell_style": "center",
    "slideshow": {
     "slide_type": "slide"
    }
   },
   "source": [
    "## Why *not* Mithril\n",
    "\n",
    "![](images/downloads.png)\n",
    "\n",
    "source: https://www.npmtrends.com/angular-vs-mithril-vs-vue-vs-react"
   ]
  },
  {
   "cell_type": "markdown",
   "metadata": {
    "cell_style": "split",
    "slideshow": {
     "slide_type": "skip"
    }
   },
   "source": [
    "framework|GH stars|npm search results\n",
    "---------|-----|------------------\n",
    "Mithril|9,566|299|\n",
    "Vue|115,418|17,705\n",
    "React|112,358|66,264\n",
    "Angular|59,113|25,104\n"
   ]
  },
  {
   "cell_type": "markdown",
   "metadata": {
    "slideshow": {
     "slide_type": "slide"
    }
   },
   "source": [
    "## React Todo (review)"
   ]
  },
  {
   "cell_type": "code",
   "execution_count": null,
   "metadata": {
    "slideshow": {
     "slide_type": "-"
    }
   },
   "outputs": [],
   "source": [
    "// git clone https://github.com/reubano/peoria-js-mithriljs.git\n",
    "// cd peoria-js-mithriljs\n",
    "// git checkout react\n",
    "// npm install"
   ]
  },
  {
   "cell_type": "code",
   "execution_count": null,
   "metadata": {
    "slideshow": {
     "slide_type": "fragment"
    }
   },
   "outputs": [],
   "source": [
    "// < in a new terminal tab >\n",
    "// npm run start"
   ]
  },
  {
   "cell_type": "markdown",
   "metadata": {
    "slideshow": {
     "slide_type": "fragment"
    }
   },
   "source": [
    "http://localhost:3333/"
   ]
  },
  {
   "cell_type": "code",
   "execution_count": null,
   "metadata": {
    "scrolled": false,
    "slideshow": {
     "slide_type": "slide"
    }
   },
   "outputs": [],
   "source": [
    "// initialize.js\n",
    "import ReactDOM from \"react-dom\";\n",
    "import React from \"react\";\n",
    "import App from \"todo\";\n",
    "\n",
    "document.addEventListener(\"DOMContentLoaded\", () => \n",
    "  ReactDOM.render(<App />, document.getElementById(\"app\"))\n",
    ");"
   ]
  },
  {
   "cell_type": "code",
   "execution_count": null,
   "metadata": {
    "slideshow": {
     "slide_type": "slide"
    }
   },
   "outputs": [],
   "source": [
    "// todo.jsx\n",
    "function Todos(props) {\n",
    "  return (\n",
    "    <div>\n",
    "      {props.todos.map(todo => (\n",
    "        <Todo\n",
    "          val={todo}\n",
    "          deleteTodo={props.deleteTodo}\n",
    "          key={todo}\n",
    "        />\n",
    "      ))}\n",
    "    </div>\n",
    "  );\n",
    "}\n",
    "\n",
    "function Todo(props) {\n",
    "  return (\n",
    "    <div>\n",
    "      <button onClick={() => props.deleteTodo(props.val)}>Done</button>\n",
    "      {props.val}\n",
    "    </div>\n",
    "  );\n",
    "}"
   ]
  },
  {
   "cell_type": "code",
   "execution_count": null,
   "metadata": {
    "slideshow": {
     "slide_type": "slide"
    }
   },
   "outputs": [],
   "source": [
    "// todo.jsx\n",
    "import React from 'react';\n",
    "\n",
    "export default class Application extends React.Component {\n",
    "  constructor(props) {\n",
    "    super(props);\n",
    "\n",
    "    this.state = {\n",
    "      todos: [\"pizza\", \"sausage\"],\n",
    "      value: \"\",\n",
    "      filterValue: \"\"\n",
    "    };\n",
    "  }\n",
    "\n",
    "  addTodo() {\n",
    "    const todos = [...this.state.todos];\n",
    "    todos.push(this.state.value);\n",
    "    this.setState({\n",
    "      todos,\n",
    "      value: \"\",\n",
    "      filterValue: \"\"\n",
    "    });\n",
    "  }\n",
    "\n",
    "  changeInputVal(e) {\n",
    "    this.setState({ value: e.target.value });\n",
    "  }\n",
    "\n",
    "  deleteTodo(todo) {\n",
    "    const todos = [...this.state.todos].filter(\n",
    "      arrayTodo => todo !== arrayTodo\n",
    "    );\n",
    "    this.setState({ todos });\n",
    "  }\n",
    "\n",
    "  changeFilterValue(e) {\n",
    "    this.setState({ filterValue: e.target.value });\n",
    "  }\n",
    "\n",
    "  render() {\n",
    "    const todos = this.state.todos.filter(\n",
    "      todo => todo.indexOf(this.state.filterValue) > -1\n",
    "    );\n",
    "\n",
    "    return (\n",
    "      <div>\n",
    "        Filter\n",
    "        <input\n",
    "          type=\"input\"\n",
    "          value={this.state.filterValue}\n",
    "          onChange={this.changeFilterValue.bind(this)}\n",
    "        />\n",
    "        <br />\n",
    "        <br />\n",
    "        <input\n",
    "          type=\"input\"\n",
    "          value={this.state.value}\n",
    "          onChange={this.changeInputVal.bind(this)}\n",
    "        />\n",
    "        <button onClick={this.addTodo.bind(this)}>Add todo</button>\n",
    "        <Todos todos={todos} deleteTodo={this.deleteTodo.bind(this)} />\n",
    "      </div>\n",
    "    );\n",
    "  }\n",
    "}"
   ]
  },
  {
   "cell_type": "code",
   "execution_count": null,
   "metadata": {
    "slideshow": {
     "slide_type": "slide"
    }
   },
   "outputs": [],
   "source": [
    "// index.html\n",
    "<!doctype html>\n",
    "<head>\n",
    "  <meta charset=\"utf-8\">\n",
    "  <meta http-equiv=\"content-type\" content=\"text/html; charset=utf-8\">\n",
    "  <meta http-equiv=\"X-UA-Compatible\" content=\"IE=edge,chrome=1\">\n",
    "  <meta name=\"viewport\" content=\"width=device-width, initial-scale=1, maximum-scale=1, user-scalable=no, shrink-to-fit=no\">\n",
    "</head>\n",
    "<body>\n",
    "  <div id=\"app\"></div>\n",
    "  <!-- js -->\n",
    "  <script src=\"/javascripts/vendor.js\"></script>\n",
    "  <script src=\"/javascripts/app.js\"></script>\n",
    "  <script>require(\"initialize\");</script>\n",
    "</body>\n",
    "</html>"
   ]
  },
  {
   "cell_type": "markdown",
   "metadata": {
    "cell_style": "split",
    "slideshow": {
     "slide_type": "slide"
    }
   },
   "source": [
    "## Let's get fancy\n",
    "\n",
    "![](images/fancy.png)"
   ]
  },
  {
   "cell_type": "markdown",
   "metadata": {
    "cell_style": "center",
    "slideshow": {
     "slide_type": "slide"
    }
   },
   "source": [
    "![](images/todomvc.png)\n",
    "\n",
    "source: http://todomvc.com"
   ]
  },
  {
   "cell_type": "markdown",
   "metadata": {
    "cell_style": "center",
    "slideshow": {
     "slide_type": "slide"
    }
   },
   "source": [
    "![](images/todomvc-mithril.png)\n",
    "\n",
    "source: http://todomvc.com/examples/mithril/#/"
   ]
  },
  {
   "cell_type": "code",
   "execution_count": null,
   "metadata": {
    "slideshow": {
     "slide_type": "slide"
    }
   },
   "outputs": [],
   "source": [
    "// git checkout styled  "
   ]
  },
  {
   "cell_type": "markdown",
   "metadata": {
    "slideshow": {
     "slide_type": "fragment"
    }
   },
   "source": [
    "http://localhost:3333/"
   ]
  },
  {
   "cell_type": "code",
   "execution_count": null,
   "metadata": {
    "slideshow": {
     "slide_type": "slide"
    }
   },
   "outputs": [],
   "source": [
    "// todo.jsx\n",
    "import React from 'react';\n",
    "\n",
    "...\n",
    "\n",
    "function Todo(props) {\n",
    "  return (\n",
    "    <li className=\"\">\n",
    "      <div className=\"view\">\n",
    "        <button\n",
    "          className=\"destroy\"\n",
    "          onClick={() => props.deleteTodo(props.val)}>\n",
    "        </button>\n",
    "        <label>{props.val}</label>\n",
    "      </div>\n",
    "    </li>\n",
    "  );\n",
    "}\n",
    "\n",
    "export default class Application extends React.Component {\n",
    "  ...\n",
    "  \n",
    "  _addTodo(e) {\n",
    "    if (e.key === 'Enter') {\n",
    "      this.addTodo()\n",
    "    }\n",
    "  }\n",
    "  \n",
    "  ...\n",
    "  \n",
    "  render() {\n",
    "    ...\n",
    "\n",
    "    return (\n",
    "      <div>\n",
    "        <header className=\"header\">\n",
    "          <input\n",
    "            className=\"new-todo\"\n",
    "            placeholder=\"What task do you want to find?\"\n",
    "            ...\n",
    "          />\n",
    "          <input\n",
    "            className=\"new-todo\"\n",
    "            placeholder=\"What needs to be done?\"\n",
    "            ...\n",
    "            onKeyPress={this._addTodo.bind(this)}\n",
    "          />\n",
    "        </header>\n",
    "        <section className=\"main\">\n",
    "          <ul className=\"todo-list\">\n",
    "            <Todos todos={todos} deleteTodo={this.deleteTodo.bind(this)} />\n",
    "          </ul>\n",
    "        </section>\n",
    "      </div>\n",
    "    );\n",
    "  }\n",
    "}"
   ]
  },
  {
   "cell_type": "code",
   "execution_count": null,
   "metadata": {
    "slideshow": {
     "slide_type": "slide"
    }
   },
   "outputs": [],
   "source": [
    "// index.html\n",
    "<!doctype html>\n",
    "<head>\n",
    "  ...\n",
    "  <link rel=\"stylesheet\" href=\"/stylesheets/vendor.css\">\n",
    "</head>\n",
    "<body>\n",
    "  <section id=\"app\" class=\"todoapp\"></section>\n",
    "  ...\n",
    "</body>\n",
    "</html>"
   ]
  },
  {
   "cell_type": "markdown",
   "metadata": {
    "cell_style": "center",
    "slideshow": {
     "slide_type": "slide"
    }
   },
   "source": [
    "## It's Mithril time!\n",
    "\n",
    "![](images/mithril.jpg)"
   ]
  },
  {
   "cell_type": "code",
   "execution_count": 2,
   "metadata": {
    "slideshow": {
     "slide_type": "slide"
    }
   },
   "outputs": [
    {
     "data": {
      "text/plain": [
       "'John'"
      ]
     },
     "execution_count": 2,
     "metadata": {},
     "output_type": "execute_result"
    }
   ],
   "source": [
    "var stream = require(\"mithril/stream\")\n",
    "var username = stream(\"John\")\n",
    "username()"
   ]
  },
  {
   "cell_type": "code",
   "execution_count": 3,
   "metadata": {
    "slideshow": {
     "slide_type": "fragment"
    }
   },
   "outputs": [
    {
     "data": {
      "text/plain": [
       "'John Doe'"
      ]
     },
     "execution_count": 3,
     "metadata": {},
     "output_type": "execute_result"
    }
   ],
   "source": [
    "username(\"John Doe\")\n",
    "username()"
   ]
  },
  {
   "cell_type": "code",
   "execution_count": 4,
   "metadata": {
    "slideshow": {
     "slide_type": "slide"
    }
   },
   "outputs": [
    {
     "data": {
      "text/plain": [
       "'Jane Doe'"
      ]
     },
     "execution_count": 4,
     "metadata": {},
     "output_type": "execute_result"
    }
   ],
   "source": [
    "var firstName = stream(\"Jane\")\n",
    "var lastName = stream(\"Doe\")\n",
    "var fullName = stream.merge([firstName, lastName]).map(\n",
    "  values => values.join(\" \")\n",
    ")\n",
    "fullName()"
   ]
  },
  {
   "cell_type": "code",
   "execution_count": 26,
   "metadata": {
    "slideshow": {
     "slide_type": "fragment"
    }
   },
   "outputs": [
    {
     "data": {
      "text/plain": [
       "'Jane Smith'"
      ]
     },
     "execution_count": 26,
     "metadata": {},
     "output_type": "execute_result"
    }
   ],
   "source": [
    "lastName(\"Smith\")\n",
    "fullName()"
   ]
  },
  {
   "cell_type": "code",
   "execution_count": null,
   "metadata": {
    "slideshow": {
     "slide_type": "slide"
    }
   },
   "outputs": [],
   "source": [
    "m(\"h1.my-class#myID\", \"My first app\")"
   ]
  },
  {
   "cell_type": "code",
   "execution_count": null,
   "metadata": {
    "slideshow": {
     "slide_type": "fragment"
    }
   },
   "outputs": [],
   "source": [
    "m(\"h1\", {class: \"my-class\", id: \"myID\"}, \"My first app\")"
   ]
  },
  {
   "cell_type": "markdown",
   "metadata": {
    "slideshow": {
     "slide_type": "fragment"
    }
   },
   "source": [
    "<h1 id=\"myID\" class=\"my-class\">My first app</h1>"
   ]
  },
  {
   "cell_type": "code",
   "execution_count": null,
   "metadata": {
    "cell_style": "center",
    "slideshow": {
     "slide_type": "slide"
    }
   },
   "outputs": [],
   "source": [
    "// git checkout mithril"
   ]
  },
  {
   "cell_type": "markdown",
   "metadata": {
    "slideshow": {
     "slide_type": "fragment"
    }
   },
   "source": [
    "http://localhost:3333/"
   ]
  },
  {
   "cell_type": "code",
   "execution_count": null,
   "metadata": {
    "slideshow": {
     "slide_type": "fragment"
    }
   },
   "outputs": [],
   "source": [
    "// initialize.js\n",
    "var m = require(\"mithril\");\n",
    "var App = require(\"todo\");\n",
    "\n",
    "document.addEventListener(\"DOMContentLoaded\", () => \n",
    "  m.mount(document.getElementById(\"app\"), App)\n",
    ");"
   ]
  },
  {
   "cell_type": "code",
   "execution_count": null,
   "metadata": {
    "slideshow": {
     "slide_type": "slide"
    }
   },
   "outputs": [],
   "source": [
    "// todo.js\n",
    "var m = require(\"mithril\");\n",
    "var stream = require(\"mithril/stream\");\n",
    "\n",
    "function TodosView(vnode) {\n",
    "  var ctrl = vnode.state.ctrl;\n",
    "  return m(\"ul.todo-list\", [\n",
    "    ctrl.todos.list.filter(ctrl.isVisible).map(todo => {\n",
    "      return m(\"li\", { class: \"\", key: todo.title() }, [\n",
    "        m(\".view\", [\n",
    "          m(\"button.destroy\", {\n",
    "            onclick: () => ctrl.deleteTodo(todo)\n",
    "          }),\n",
    "          m(\"label\", todo.title())\n",
    "        ])\n",
    "      ]);\n",
    "    })\n",
    "  ]);\n",
    "}\n",
    "\n",
    "class Todo {\n",
    "  constructor(title) {\n",
    "    this.title = stream(title.trim());\n",
    "  }\n",
    "}\n",
    "\n",
    "class Todos {\n",
    "  constructor(titles) {\n",
    "    this.list = titles.map(title => new Todo(title));\n",
    "  }\n",
    "}\n",
    "\n",
    "class Controller {\n",
    "  constructor(attrs) {\n",
    "    this.addTodo = this.addTodo.bind(this);\n",
    "    this.deleteTodo = this.deleteTodo.bind(this);\n",
    "    this.isVisible = this.isVisible.bind(this);\n",
    "    this.title = stream(\"\");\n",
    "    this.filterValue = stream(\"\");\n",
    "    this.todos = new Todos([\"pizza\", \"sausage\"]);\n",
    "  }\n",
    "\n",
    "  addTodo(event) {\n",
    "    if (event.key === \"Enter\") {\n",
    "      var todo = new Todo(this.title());\n",
    "      this.todos.list.push(todo);\n",
    "      this.title(\"\");\n",
    "      this.filterValue(\"\");\n",
    "      m.redraw();\n",
    "    }\n",
    "  }\n",
    "\n",
    "  deleteTodo(todo) {\n",
    "    this.todos.list = this.todos.list.filter(_todo => \n",
    "      _todo.title() !== todo.title()\n",
    "    );\n",
    "  }\n",
    "\n",
    "  isVisible(todo) {\n",
    "    return todo.title().includes(this.filterValue());\n",
    "  }\n",
    "}\n",
    "\n",
    "module.exports = {\n",
    "  oninit: vnode => vnode.state.ctrl = new Controller(),\n",
    "\n",
    "  view: vnode => {\n",
    "    var ctrl = vnode.state.ctrl;\n",
    "\n",
    "    return [\n",
    "      m(\"header#header\", [\n",
    "        m(\"input.new-todo\", {\n",
    "          placeholder: \"What task do you want to find?\",\n",
    "          value: ctrl.filterValue(),\n",
    "          oninput: m.withAttr(\"value\", ctrl.filterValue)\n",
    "        }),\n",
    "        m(\"input.new-todo\", {\n",
    "          placeholder: \"What needs to be done?\",\n",
    "          value: ctrl.title(),\n",
    "          oninput: m.withAttr(\"value\", ctrl.title),\n",
    "          onkeyup: ctrl.addTodo\n",
    "        })\n",
    "      ]),\n",
    "      m(\"section#main\", TodosView(vnode))\n",
    "    ];\n",
    "  }\n",
    "};"
   ]
  },
  {
   "cell_type": "markdown",
   "metadata": {
    "cell_style": "center",
    "slideshow": {
     "slide_type": "slide"
    }
   },
   "source": [
    "## Car\n",
    "\n",
    "![](images/car.jpg)"
   ]
  },
  {
   "cell_type": "code",
   "execution_count": null,
   "metadata": {
    "cell_style": "center",
    "slideshow": {
     "slide_type": "slide"
    }
   },
   "outputs": [],
   "source": [
    "// git checkout complete"
   ]
  },
  {
   "cell_type": "markdown",
   "metadata": {
    "slideshow": {
     "slide_type": "fragment"
    }
   },
   "source": [
    "http://localhost:3333/"
   ]
  },
  {
   "cell_type": "code",
   "execution_count": null,
   "metadata": {
    "slideshow": {
     "slide_type": "fragment"
    }
   },
   "outputs": [],
   "source": [
    "// initialize.js\n",
    "var m = require(\"mithril\");\n",
    "var App = require(\"application\");\n",
    "var routes = require(\"routes\");\n",
    "\n",
    "document.addEventListener(\"DOMContentLoaded\", () => {\n",
    "  var location = document.getElementById(\"app\");\n",
    "  m.route(location, \"/\", routes(App));\n",
    "});"
   ]
  },
  {
   "cell_type": "code",
   "execution_count": null,
   "metadata": {
    "slideshow": {
     "slide_type": "slide"
    }
   },
   "outputs": [],
   "source": [
    "// model.js\n",
    "var stream = require(\"mithril/stream\");\n",
    "var count = 0;\n",
    "\n",
    "function uniqueId() {\n",
    "  count += 1;\n",
    "  return count;\n",
    "}\n",
    "\n",
    "class Todo {\n",
    "  constructor(title) {\n",
    "    this.isEmpty = this.isEmpty.bind(this);\n",
    "    this.title = stream(title.trim());\n",
    "    this.completed = stream(false);\n",
    "    this.editing = stream(false);\n",
    "    this.id = uniqueId();\n",
    "  }\n",
    "\n",
    "  isEmpty() {\n",
    "    return !this.title();\n",
    "  }\n",
    "}\n",
    "\n",
    "module.exports = {\n",
    "  Todo: Todo,\n",
    "  Todos: class Todos {\n",
    "    constructor(titles) {\n",
    "      titles = titles || [];\n",
    "      this.list = titles.map(title => new Todo(title));\n",
    "    }\n",
    "  }\n",
    "};"
   ]
  },
  {
   "cell_type": "code",
   "execution_count": null,
   "metadata": {
    "slideshow": {
     "slide_type": "slide"
    }
   },
   "outputs": [],
   "source": [
    "// view.js\n",
    "function watchInput(onenter, onescape) {\n",
    "  return function(e) {\n",
    "    switch (e.key) {\n",
    "      case \"Enter\":\n",
    "        typeof onenter === \"function\" ? onenter() : null\n",
    "        return (e.redraw = true);\n",
    "      case \"Escape\":\n",
    "        typeof onescape === \"function\" ? onescape() : null\n",
    "        return (e.redraw = true);\n",
    "      default:\n",
    "        return (e.redraw = false);\n",
    "    }\n",
    "  };\n",
    "}"
   ]
  },
  {
   "cell_type": "code",
   "execution_count": null,
   "metadata": {
    "slideshow": {
     "slide_type": "slide"
    }
   },
   "outputs": [],
   "source": [
    "// view.js\n",
    "var m = require(\"mithril\");\n",
    "\n",
    "module.exports = {\n",
    "  headerView: vnode => {\n",
    "    var ctrl = vnode.state.ctrl;\n",
    "    return m(\"header#header\", [\n",
    "      m(\"h1\", \"todos\"),\n",
    "      m(\"input.new-todo\", {\n",
    "        placeholder: \"What needs to be done?\",\n",
    "        value: ctrl.title(),\n",
    "        onkeyup: watchInput(ctrl.add, ctrl.clearTitle),\n",
    "        oninput: m.withAttr(\"value\", ctrl.title)\n",
    "      })\n",
    "    ]);\n",
    "  },\n",
    "  todosView: vnode => {\n",
    "    var ctrl = vnode.state.ctrl;\n",
    "\n",
    "    return m(\"ul.todo-list\", [\n",
    "      ctrl.todos.list.filter(ctrl.isVisible).map(todo => {\n",
    "        var _class = todo.completed() ? \"completed \" : \"\";\n",
    "        _class += todo.editing() ? \"editing\" : \"\";\n",
    "\n",
    "        var save = () => ctrl.save(todo);\n",
    "        var reset = () => ctrl.reset(todo);\n",
    "        ...\n",
    "          \n",
    "        return m(\"li\", { class: _class, key: todo.id }, [\n",
    "          m(\".view\", [\n",
    "            m(\"input.toggle[type=checkbox]\", {\n",
    "              onclick: m.withAttr(\"checked\", toggle),\n",
    "              checked: todo.completed()\n",
    "            }),\n",
    "            m(\"label\", { ondblclick: edit }, todo.title()),\n",
    "            m(\"button.destroy\", { onclick: remove })\n",
    "          ]),\n",
    "          m(\"input.edit\", {\n",
    "            value: todo.title(),\n",
    "            onkeyup: watchInput(save, reset),\n",
    "            onblur: save,\n",
    "            oninput: m.withAttr(\"value\", todo.title),\n",
    "            onupdate: vnode => ctrl.focus(vnode, todo)\n",
    "          })\n",
    "        ]);\n",
    "      })\n",
    "    ]);\n",
    "  },\n",
    "  footerView: vnode => {\n",
    "    var ctrl = vnode.state.ctrl;\n",
    "    var es = ctrl.remaining() === 1 ? \"\" : \"s\";\n",
    "    var clear = () => ctrl.clearCompleted();\n",
    "\n",
    "    return m(\"footer.footer\", [\n",
    "      m(\"span.todo-count\", [m(\"strong\", ctrl.remaining()), ` item${es} left`]),\n",
    "      m(\"ul.filters\", [\n",
    "        [\"all\", \"active\", \"completed\"].map(status => {\n",
    "          var attrs = {\n",
    "            href: `/${status}`,\n",
    "            oncreate: m.route.link,\n",
    "            onupdate: m.route.link,\n",
    "            class: ctrl.status() === status ? \"selected\" : \"\"\n",
    "          };\n",
    "\n",
    "          return m(\"li\", m(\"a\", attrs, status));\n",
    "        }),\n",
    "        m(\"li\", \"🔍\"),\n",
    "        m(\"input\", {\n",
    "          placeholder: \"Search\",\n",
    "          value: ctrl.filterValue(),\n",
    "          onkeyup: watchInput(null, ctrl.clearFilter),\n",
    "          oninput: m.withAttr(\"value\", ctrl.filterValue)\n",
    "        })\n",
    "      ]),\n",
    "      ctrl.completed()\n",
    "        ? m(\"button.clear-completed\", { onclick: clear }, \"Clear completed\")\n",
    "        : void 0\n",
    "    ]);\n",
    "  }\n",
    "};"
   ]
  },
  {
   "cell_type": "code",
   "execution_count": null,
   "metadata": {
    "slideshow": {
     "slide_type": "slide"
    }
   },
   "outputs": [],
   "source": [
    "// controller.js\n",
    "var stream = require(\"mithril/stream\");\n",
    "var Model = require(\"model\");\n",
    "\n",
    "module.exports = class Controller {\n",
    "  constructor(attrs) {\n",
    "    ...\n",
    "    this.title = stream(\"\");\n",
    "    this.filterValue = stream(\"\");\n",
    "    this.todos = new Model.Todos([\"pizza\", \"sausage\"]);\n",
    "  }\n",
    "    \n",
    "  ...\n",
    "\n",
    "  update(attrs) {\n",
    "    this.status(attrs.status);\n",
    "  }\n",
    "\n",
    "  add() {\n",
    "    if (!this.isEmpty()) {\n",
    "      var todo = new Model.Todo(this.title());\n",
    "      this.todos.list.push(todo);\n",
    "      this.clearTitle();\n",
    "      this.clearFilter();\n",
    "    }\n",
    "  }\n",
    "\n",
    "  remove(todo, pred) {\n",
    "    pred = pred ? pred : _todo => _todo.id !== todo.id;\n",
    "    this.todos.list = this.todos.list.filter(pred);\n",
    "  }\n",
    "\n",
    "  edit(todo) {\n",
    "    todo.previousTitle = todo.title();\n",
    "    todo.editing(true);\n",
    "  }\n",
    "\n",
    "  isVisible(todo) {\n",
    "    var visible = function() {\n",
    "      switch (this.status()) {\n",
    "        case \"active\":\n",
    "          return !todo.completed();\n",
    "        case \"completed\":\n",
    "          return todo.completed();\n",
    "        default:\n",
    "          return true;\n",
    "      }\n",
    "    }.call(this);\n",
    "    if (visible && this.filterValue()) {\n",
    "      return todo.title().includes(this.filterValue());\n",
    "    } else {\n",
    "      return visible;\n",
    "    }\n",
    "  }\n",
    "\n",
    "  toggle(todo) {\n",
    "    todo.completed(!todo.completed());\n",
    "  }\n",
    "\n",
    "  save(todo) {\n",
    "    if (todo.editing()) {\n",
    "      todo.editing(false);\n",
    "      todo.isEmpty() ? this.remove(todo) : null;\n",
    "    }\n",
    "  }\n",
    "\n",
    "  reset(todo) {\n",
    "    todo.title(todo.previousTitle);\n",
    "    todo.editing(false);\n",
    "  }\n",
    "\n",
    "  completed() {\n",
    "    var filtered = this.todos.list.filter(todo => todo.completed());\n",
    "    return filtered.length;\n",
    "  }\n",
    "\n",
    "  remaining() {\n",
    "    var filtered = this.todos.list.filter(todo => !todo.completed());\n",
    "    return filtered.length;\n",
    "  }\n",
    "\n",
    "  allCompleted() {\n",
    "    return this.todos.list.every(todo => todo.completed());\n",
    "  }\n",
    "\n",
    "  completeAll() {\n",
    "    var completed = !this.allCompleted();\n",
    "    this.todos.list.forEach(todo => {\n",
    "      todo.completed() === completed ? null : this.toggle(todo);\n",
    "    });\n",
    "  }\n",
    "\n",
    "  focus(vnode, todo) {\n",
    "    if (todo.editing() && vnode.dom !== document.activeElement) {\n",
    "      vnode.dom.focus();\n",
    "    }\n",
    "  }\n",
    "};"
   ]
  },
  {
   "cell_type": "code",
   "execution_count": null,
   "metadata": {
    "slideshow": {
     "slide_type": "slide"
    }
   },
   "outputs": [],
   "source": [
    "// application.js\n",
    "var m = require(\"mithril\");\n",
    "var Controller = require(\"controller\");\n",
    "var view = require(\"view\");\n",
    "\n",
    "module.exports = {\n",
    "  oninit: vnode => {\n",
    "    vnode.state.ctrl = new Controller(vnode.attrs);\n",
    "  },\n",
    "  onbeforeupdate: vnode => {\n",
    "    vnode.state.ctrl.update(vnode.attrs);\n",
    "  },\n",
    "  view: vnode => {\n",
    "    var ctrl = vnode.state.ctrl;\n",
    "    var display = ctrl.todos.list.length ? \"\" : \"none\";\n",
    "    return [\n",
    "      view.headerView(vnode),\n",
    "      m(\"section.main\", { style: { display } }, [\n",
    "        m(\"input#toggle-all.toggle-all[type=checkbox]\", {\n",
    "          onclick: ctrl.completeAll,\n",
    "          checked: ctrl.allCompleted()\n",
    "        }),\n",
    "        m(\"label\", { for: \"toggle-all\" }, \"Mark all as complete\"),\n",
    "        view.todosView(vnode)\n",
    "      ]),\n",
    "      ctrl.todos.list.length ? view.footerView(vnode) : void 0\n",
    "    ];\n",
    "  }\n",
    "};"
   ]
  },
  {
   "cell_type": "code",
   "execution_count": null,
   "metadata": {
    "slideshow": {
     "slide_type": "slide"
    }
   },
   "outputs": [],
   "source": [
    "// routes.js\n",
    "var m = require(\"mithril\");\n",
    "\n",
    "module.exports = app => {\n",
    "  return {\n",
    "    \"/\": { render: vnode => m(app, vnode.attrs) },\n",
    "    \"/:status\": { render: vnode => m(app, vnode.attrs) }\n",
    "  };\n",
    "};"
   ]
  },
  {
   "cell_type": "markdown",
   "metadata": {
    "cell_style": "center",
    "slideshow": {
     "slide_type": "slide"
    }
   },
   "source": [
    "![](images/prison.png)\n",
    "\n",
    "Source: https://ipa.united4iran.org/en/"
   ]
  }
 ],
 "metadata": {
  "celltoolbar": "Slideshow",
  "kernelspec": {
   "display_name": "Javascript (Node.js)",
   "language": "javascript",
   "name": "javascript"
  },
  "language_info": {
   "file_extension": ".js",
   "mimetype": "application/javascript",
   "name": "javascript",
   "version": "8.11.3"
  },
  "rise": {
   "autolaunch": true,
   "enable_chalkboard": false,
   "scroll": true,
   "theme": "white"
  }
 },
 "nbformat": 4,
 "nbformat_minor": 2
}
